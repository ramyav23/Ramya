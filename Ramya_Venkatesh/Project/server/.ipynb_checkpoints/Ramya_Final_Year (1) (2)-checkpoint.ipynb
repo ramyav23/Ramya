{
 "cells": [
  {
   "cell_type": "code",
   "execution_count": 1,
   "id": "875673b6",
   "metadata": {
    "extensions": {
     "jupyter_dashboards": {
      "version": 1,
      "views": {
       "grid_default": {},
       "report_default": {
        "hidden": true
       }
      }
     }
    }
   },
   "outputs": [],
   "source": [
    "from cvxpy import *"
   ]
  },
  {
   "cell_type": "code",
   "execution_count": 6,
   "id": "d82801b3",
   "metadata": {},
   "outputs": [
    {
     "name": "stdout",
     "output_type": "stream",
     "text": [
      "Requirement already satisfied: pandas in /Library/anaconda3/lib/python3.9/site-packages (1.4.2)\n",
      "Requirement already satisfied: python-dateutil>=2.8.1 in /Library/anaconda3/lib/python3.9/site-packages (from pandas) (2.8.2)\n",
      "Requirement already satisfied: pytz>=2020.1 in /Library/anaconda3/lib/python3.9/site-packages (from pandas) (2021.3)\n",
      "Requirement already satisfied: numpy>=1.18.5 in /Library/anaconda3/lib/python3.9/site-packages (from pandas) (1.22.3)\n",
      "Requirement already satisfied: six>=1.5 in /Library/anaconda3/lib/python3.9/site-packages (from python-dateutil>=2.8.1->pandas) (1.16.0)\n"
     ]
    }
   ],
   "source": [
    "! pip install pandas"
   ]
  },
  {
   "cell_type": "code",
   "execution_count": 3,
   "id": "1b132063",
   "metadata": {},
   "outputs": [
    {
     "name": "stdout",
     "output_type": "stream",
     "text": [
      "Collecting cvxpy==1.2.0\n",
      "  Downloading cvxpy-1.2.0-cp39-cp39-macosx_10_9_x86_64.whl (880 kB)\n",
      "\u001b[K     |████████████████████████████████| 880 kB 1.8 MB/s eta 0:00:01\n",
      "\u001b[?25hCollecting fix-yahoo-finance==0.1.30\n",
      "  Downloading fix-yahoo-finance-0.1.30.tar.gz (11 kB)\n",
      "Requirement already satisfied: ipython==8.2.0 in /Library/anaconda3/lib/python3.9/site-packages (from -r requirments.txt (line 3)) (8.2.0)\n",
      "Collecting newsapi-python==0.2.6\n",
      "  Downloading newsapi_python-0.2.6-py2.py3-none-any.whl (7.9 kB)\n",
      "Requirement already satisfied: nltk==3.7 in /Library/anaconda3/lib/python3.9/site-packages (from -r requirments.txt (line 5)) (3.7)\n",
      "Collecting numpy==1.22.3\n",
      "  Downloading numpy-1.22.3-cp39-cp39-macosx_10_14_x86_64.whl (17.6 MB)\n",
      "\u001b[K     |████████████████████████████████| 17.6 MB 7.8 MB/s eta 0:00:01     |█████████████████████▏          | 11.7 MB 6.8 MB/s eta 0:00:01\n",
      "\u001b[?25hRequirement already satisfied: openpyxl==3.0.9 in /Library/anaconda3/lib/python3.9/site-packages (from -r requirments.txt (line 7)) (3.0.9)\n",
      "Requirement already satisfied: pandas==1.4.2 in /Library/anaconda3/lib/python3.9/site-packages (from -r requirments.txt (line 8)) (1.4.2)\n",
      "Collecting pandas-datareader==0.10.0\n",
      "  Downloading pandas_datareader-0.10.0-py3-none-any.whl (109 kB)\n",
      "\u001b[K     |████████████████████████████████| 109 kB 6.2 MB/s eta 0:00:01\n",
      "\u001b[?25hCollecting pandas-ta==0.3.14b0\n",
      "  Downloading pandas_ta-0.3.14b.tar.gz (115 kB)\n",
      "\u001b[K     |████████████████████████████████| 115 kB 6.5 MB/s eta 0:00:01\n",
      "\u001b[?25hCollecting plotly==5.8.0\n",
      "  Downloading plotly-5.8.0-py2.py3-none-any.whl (15.2 MB)\n",
      "\u001b[K     |████████████████████████████████| 15.2 MB 409 kB/s eta 0:00:011\n",
      "\u001b[?25hCollecting PuLP==2.6.0\n",
      "  Downloading PuLP-2.6.0-py3-none-any.whl (14.2 MB)\n",
      "\u001b[K     |████████████████████████████████| 14.2 MB 4.5 MB/s eta 0:00:01\n",
      "\u001b[?25hRequirement already satisfied: seaborn==0.11.2 in /Library/anaconda3/lib/python3.9/site-packages (from -r requirments.txt (line 13)) (0.11.2)\n",
      "Requirement already satisfied: yfinance==0.1.70 in /Library/anaconda3/lib/python3.9/site-packages (from -r requirments.txt (line 14)) (0.1.70)\n",
      "Collecting ipywidgets==8.0.0rc0\n",
      "  Downloading ipywidgets-8.0.0rc0-py3-none-any.whl (132 kB)\n",
      "\u001b[K     |████████████████████████████████| 132 kB 4.1 MB/s eta 0:00:01\n",
      "\u001b[?25hCollecting matplotlib==3.5.2\n",
      "  Downloading matplotlib-3.5.2-cp39-cp39-macosx_10_9_x86_64.whl (7.3 MB)\n",
      "\u001b[K     |████████████████████████████████| 7.3 MB 7.0 MB/s eta 0:00:01\n",
      "\u001b[?25hCollecting matplotlib-inline==0.1.3\n",
      "  Downloading matplotlib_inline-0.1.3-py3-none-any.whl (8.2 kB)\n",
      "Requirement already satisfied: osqp>=0.4.1 in /Library/anaconda3/lib/python3.9/site-packages (from cvxpy==1.2.0->-r requirments.txt (line 1)) (0.6.2.post5)\n",
      "Requirement already satisfied: scs>=1.1.6 in /Library/anaconda3/lib/python3.9/site-packages (from cvxpy==1.2.0->-r requirments.txt (line 1)) (3.2.0)\n",
      "Requirement already satisfied: ecos>=2 in /Library/anaconda3/lib/python3.9/site-packages (from cvxpy==1.2.0->-r requirments.txt (line 1)) (2.0.10)\n",
      "Requirement already satisfied: scipy>=1.1.0 in /Library/anaconda3/lib/python3.9/site-packages (from cvxpy==1.2.0->-r requirments.txt (line 1)) (1.7.3)\n",
      "Requirement already satisfied: requests in /Library/anaconda3/lib/python3.9/site-packages (from fix-yahoo-finance==0.1.30->-r requirments.txt (line 2)) (2.27.1)\n",
      "Requirement already satisfied: multitasking in /Library/anaconda3/lib/python3.9/site-packages (from fix-yahoo-finance==0.1.30->-r requirments.txt (line 2)) (0.0.10)\n",
      "Requirement already satisfied: decorator in /Library/anaconda3/lib/python3.9/site-packages (from ipython==8.2.0->-r requirments.txt (line 3)) (5.1.1)\n",
      "Requirement already satisfied: jedi>=0.16 in /Library/anaconda3/lib/python3.9/site-packages (from ipython==8.2.0->-r requirments.txt (line 3)) (0.18.1)\n",
      "Requirement already satisfied: pexpect>4.3 in /Library/anaconda3/lib/python3.9/site-packages (from ipython==8.2.0->-r requirments.txt (line 3)) (4.8.0)\n",
      "Requirement already satisfied: setuptools>=18.5 in /Library/anaconda3/lib/python3.9/site-packages (from ipython==8.2.0->-r requirments.txt (line 3)) (61.2.0)\n",
      "Requirement already satisfied: stack-data in /Library/anaconda3/lib/python3.9/site-packages (from ipython==8.2.0->-r requirments.txt (line 3)) (0.2.0)\n",
      "Requirement already satisfied: pickleshare in /Library/anaconda3/lib/python3.9/site-packages (from ipython==8.2.0->-r requirments.txt (line 3)) (0.7.5)\n",
      "Requirement already satisfied: traitlets>=5 in /Library/anaconda3/lib/python3.9/site-packages (from ipython==8.2.0->-r requirments.txt (line 3)) (5.1.1)\n",
      "Requirement already satisfied: prompt-toolkit!=3.0.0,!=3.0.1,<3.1.0,>=2.0.0 in /Library/anaconda3/lib/python3.9/site-packages (from ipython==8.2.0->-r requirments.txt (line 3)) (3.0.20)\n",
      "Requirement already satisfied: backcall in /Library/anaconda3/lib/python3.9/site-packages (from ipython==8.2.0->-r requirments.txt (line 3)) (0.2.0)\n",
      "Requirement already satisfied: pygments>=2.4.0 in /Library/anaconda3/lib/python3.9/site-packages (from ipython==8.2.0->-r requirments.txt (line 3)) (2.11.2)\n",
      "Requirement already satisfied: appnope in /Library/anaconda3/lib/python3.9/site-packages (from ipython==8.2.0->-r requirments.txt (line 3)) (0.1.2)\n",
      "Requirement already satisfied: tqdm in /Library/anaconda3/lib/python3.9/site-packages (from nltk==3.7->-r requirments.txt (line 5)) (4.64.0)\n",
      "Requirement already satisfied: regex>=2021.8.3 in /Library/anaconda3/lib/python3.9/site-packages (from nltk==3.7->-r requirments.txt (line 5)) (2022.3.15)\n",
      "Requirement already satisfied: click in /Library/anaconda3/lib/python3.9/site-packages (from nltk==3.7->-r requirments.txt (line 5)) (8.0.4)\n",
      "Requirement already satisfied: joblib in /Library/anaconda3/lib/python3.9/site-packages (from nltk==3.7->-r requirments.txt (line 5)) (1.1.0)\n",
      "Requirement already satisfied: et-xmlfile in /Library/anaconda3/lib/python3.9/site-packages (from openpyxl==3.0.9->-r requirments.txt (line 7)) (1.1.0)\n",
      "Requirement already satisfied: python-dateutil>=2.8.1 in /Library/anaconda3/lib/python3.9/site-packages (from pandas==1.4.2->-r requirments.txt (line 8)) (2.8.2)\n",
      "Requirement already satisfied: pytz>=2020.1 in /Library/anaconda3/lib/python3.9/site-packages (from pandas==1.4.2->-r requirments.txt (line 8)) (2021.3)\n",
      "Requirement already satisfied: lxml in /Library/anaconda3/lib/python3.9/site-packages (from pandas-datareader==0.10.0->-r requirments.txt (line 9)) (4.8.0)\n",
      "Requirement already satisfied: tenacity>=6.2.0 in /Library/anaconda3/lib/python3.9/site-packages (from plotly==5.8.0->-r requirments.txt (line 11)) (8.0.1)\n",
      "Requirement already satisfied: ipykernel>=4.5.1 in /Library/anaconda3/lib/python3.9/site-packages (from ipywidgets==8.0.0rc0->-r requirments.txt (line 15)) (6.9.1)\n",
      "Requirement already satisfied: nbformat>=4.2.0 in /Library/anaconda3/lib/python3.9/site-packages (from ipywidgets==8.0.0rc0->-r requirments.txt (line 15)) (5.3.0)\n",
      "Collecting jupyterlab-widgets~=3.0rc0\n",
      "  Downloading jupyterlab_widgets-3.0.0rc0-py3-none-any.whl (383 kB)\n",
      "\u001b[K     |████████████████████████████████| 383 kB 4.7 MB/s eta 0:00:01\n",
      "\u001b[?25hCollecting widgetsnbextension~=4.0rc0\n",
      "  Downloading widgetsnbextension-4.0.0rc0-py3-none-any.whl (2.0 MB)\n",
      "\u001b[K     |████████████████████████████████| 2.0 MB 10.6 MB/s eta 0:00:01     |███████▊                        | 491 kB 10.6 MB/s eta 0:00:01\n",
      "\u001b[?25hRequirement already satisfied: cycler>=0.10 in /Library/anaconda3/lib/python3.9/site-packages (from matplotlib==3.5.2->-r requirments.txt (line 16)) (0.11.0)\n",
      "Requirement already satisfied: pillow>=6.2.0 in /Library/anaconda3/lib/python3.9/site-packages (from matplotlib==3.5.2->-r requirments.txt (line 16)) (9.0.1)\n",
      "Requirement already satisfied: packaging>=20.0 in /Library/anaconda3/lib/python3.9/site-packages (from matplotlib==3.5.2->-r requirments.txt (line 16)) (21.3)\n",
      "Requirement already satisfied: kiwisolver>=1.0.1 in /Library/anaconda3/lib/python3.9/site-packages (from matplotlib==3.5.2->-r requirments.txt (line 16)) (1.3.2)\n",
      "Requirement already satisfied: fonttools>=4.22.0 in /Library/anaconda3/lib/python3.9/site-packages (from matplotlib==3.5.2->-r requirments.txt (line 16)) (4.25.0)\n",
      "Requirement already satisfied: pyparsing>=2.2.1 in /Library/anaconda3/lib/python3.9/site-packages (from matplotlib==3.5.2->-r requirments.txt (line 16)) (3.0.4)\n"
     ]
    },
    {
     "name": "stdout",
     "output_type": "stream",
     "text": [
      "Requirement already satisfied: jupyter-client<8.0 in /Library/anaconda3/lib/python3.9/site-packages (from ipykernel>=4.5.1->ipywidgets==8.0.0rc0->-r requirments.txt (line 15)) (6.1.12)\n",
      "Requirement already satisfied: tornado<7.0,>=4.2 in /Library/anaconda3/lib/python3.9/site-packages (from ipykernel>=4.5.1->ipywidgets==8.0.0rc0->-r requirments.txt (line 15)) (6.1)\n",
      "Requirement already satisfied: debugpy<2.0,>=1.0.0 in /Library/anaconda3/lib/python3.9/site-packages (from ipykernel>=4.5.1->ipywidgets==8.0.0rc0->-r requirments.txt (line 15)) (1.5.1)\n",
      "Requirement already satisfied: nest-asyncio in /Library/anaconda3/lib/python3.9/site-packages (from ipykernel>=4.5.1->ipywidgets==8.0.0rc0->-r requirments.txt (line 15)) (1.5.5)\n",
      "Requirement already satisfied: parso<0.9.0,>=0.8.0 in /Library/anaconda3/lib/python3.9/site-packages (from jedi>=0.16->ipython==8.2.0->-r requirments.txt (line 3)) (0.8.3)\n",
      "Requirement already satisfied: jupyter-core>=4.6.0 in /Library/anaconda3/lib/python3.9/site-packages (from jupyter-client<8.0->ipykernel>=4.5.1->ipywidgets==8.0.0rc0->-r requirments.txt (line 15)) (4.9.2)\n",
      "Requirement already satisfied: pyzmq>=13 in /Library/anaconda3/lib/python3.9/site-packages (from jupyter-client<8.0->ipykernel>=4.5.1->ipywidgets==8.0.0rc0->-r requirments.txt (line 15)) (22.3.0)\n",
      "Requirement already satisfied: jsonschema>=2.6 in /Library/anaconda3/lib/python3.9/site-packages (from nbformat>=4.2.0->ipywidgets==8.0.0rc0->-r requirments.txt (line 15)) (4.4.0)\n",
      "Requirement already satisfied: fastjsonschema in /Library/anaconda3/lib/python3.9/site-packages (from nbformat>=4.2.0->ipywidgets==8.0.0rc0->-r requirments.txt (line 15)) (2.15.1)\n",
      "Requirement already satisfied: attrs>=17.4.0 in /Library/anaconda3/lib/python3.9/site-packages (from jsonschema>=2.6->nbformat>=4.2.0->ipywidgets==8.0.0rc0->-r requirments.txt (line 15)) (21.4.0)\n",
      "Requirement already satisfied: pyrsistent!=0.17.0,!=0.17.1,!=0.17.2,>=0.14.0 in /Library/anaconda3/lib/python3.9/site-packages (from jsonschema>=2.6->nbformat>=4.2.0->ipywidgets==8.0.0rc0->-r requirments.txt (line 15)) (0.18.0)\n",
      "Requirement already satisfied: qdldl in /Library/anaconda3/lib/python3.9/site-packages (from osqp>=0.4.1->cvxpy==1.2.0->-r requirments.txt (line 1)) (0.1.5.post2)\n",
      "Requirement already satisfied: ptyprocess>=0.5 in /Library/anaconda3/lib/python3.9/site-packages (from pexpect>4.3->ipython==8.2.0->-r requirments.txt (line 3)) (0.7.0)\n",
      "Requirement already satisfied: wcwidth in /Library/anaconda3/lib/python3.9/site-packages (from prompt-toolkit!=3.0.0,!=3.0.1,<3.1.0,>=2.0.0->ipython==8.2.0->-r requirments.txt (line 3)) (0.2.5)\n",
      "Requirement already satisfied: six>=1.5 in /Library/anaconda3/lib/python3.9/site-packages (from python-dateutil>=2.8.1->pandas==1.4.2->-r requirments.txt (line 8)) (1.16.0)\n",
      "Requirement already satisfied: charset-normalizer~=2.0.0 in /Library/anaconda3/lib/python3.9/site-packages (from requests->fix-yahoo-finance==0.1.30->-r requirments.txt (line 2)) (2.0.4)\n",
      "Requirement already satisfied: idna<4,>=2.5 in /Library/anaconda3/lib/python3.9/site-packages (from requests->fix-yahoo-finance==0.1.30->-r requirments.txt (line 2)) (3.3)\n",
      "Requirement already satisfied: urllib3<1.27,>=1.21.1 in /Library/anaconda3/lib/python3.9/site-packages (from requests->fix-yahoo-finance==0.1.30->-r requirments.txt (line 2)) (1.26.9)\n",
      "Requirement already satisfied: certifi>=2017.4.17 in /Library/anaconda3/lib/python3.9/site-packages (from requests->fix-yahoo-finance==0.1.30->-r requirments.txt (line 2)) (2021.10.8)\n",
      "Requirement already satisfied: pure-eval in /Library/anaconda3/lib/python3.9/site-packages (from stack-data->ipython==8.2.0->-r requirments.txt (line 3)) (0.2.2)\n",
      "Requirement already satisfied: asttokens in /Library/anaconda3/lib/python3.9/site-packages (from stack-data->ipython==8.2.0->-r requirments.txt (line 3)) (2.0.5)\n",
      "Requirement already satisfied: executing in /Library/anaconda3/lib/python3.9/site-packages (from stack-data->ipython==8.2.0->-r requirments.txt (line 3)) (0.8.3)\n",
      "Building wheels for collected packages: fix-yahoo-finance, pandas-ta\n",
      "  Building wheel for fix-yahoo-finance (setup.py) ... \u001b[?25ldone\n",
      "\u001b[?25h  Created wheel for fix-yahoo-finance: filename=fix_yahoo_finance-0.1.30-py3-none-any.whl size=12153 sha256=add0a6e8facf797d09c3c62375799fba94b903d3f8fefe45704995788a8b7099\n",
      "  Stored in directory: /Users/kvenkatcharan/Library/Caches/pip/wheels/92/e1/3e/740f2819c3bd57cb66d4f1036ee4f19df661ebb37e867ccaa2\n",
      "  Building wheel for pandas-ta (setup.py) ... \u001b[?25ldone\n",
      "\u001b[?25h  Created wheel for pandas-ta: filename=pandas_ta-0.3.14b0-py3-none-any.whl size=218922 sha256=7a4135547cd925bc0bd81b613976a31d21a59d8079154f76bd5d7e8b83d1e4b2\n",
      "  Stored in directory: /Users/kvenkatcharan/Library/Caches/pip/wheels/1e/5c/47/759b32beb377aee150eb4c1f1b2b7635032cc19ea09ce076fd\n",
      "Successfully built fix-yahoo-finance pandas-ta\n",
      "Installing collected packages: numpy, matplotlib-inline, widgetsnbextension, matplotlib, jupyterlab-widgets, PuLP, plotly, pandas-ta, pandas-datareader, newsapi-python, ipywidgets, fix-yahoo-finance, cvxpy\n",
      "  Attempting uninstall: numpy\n",
      "    Found existing installation: numpy 1.21.5\n",
      "    Uninstalling numpy-1.21.5:\n",
      "      Successfully uninstalled numpy-1.21.5\n",
      "  Attempting uninstall: matplotlib-inline\n",
      "    Found existing installation: matplotlib-inline 0.1.2\n",
      "    Uninstalling matplotlib-inline-0.1.2:\n",
      "      Successfully uninstalled matplotlib-inline-0.1.2\n",
      "  Attempting uninstall: widgetsnbextension\n",
      "    Found existing installation: widgetsnbextension 3.5.2\n",
      "    Uninstalling widgetsnbextension-3.5.2:\n",
      "      Successfully uninstalled widgetsnbextension-3.5.2\n",
      "  Attempting uninstall: matplotlib\n",
      "    Found existing installation: matplotlib 3.5.1\n",
      "    Uninstalling matplotlib-3.5.1:\n",
      "      Successfully uninstalled matplotlib-3.5.1\n",
      "  Attempting uninstall: jupyterlab-widgets\n",
      "    Found existing installation: jupyterlab-widgets 1.0.0\n",
      "    Uninstalling jupyterlab-widgets-1.0.0:\n",
      "      Successfully uninstalled jupyterlab-widgets-1.0.0\n",
      "  Attempting uninstall: plotly\n",
      "    Found existing installation: plotly 5.6.0\n",
      "    Uninstalling plotly-5.6.0:\n",
      "      Successfully uninstalled plotly-5.6.0\n",
      "  Attempting uninstall: ipywidgets\n",
      "    Found existing installation: ipywidgets 7.6.5\n",
      "    Uninstalling ipywidgets-7.6.5:\n",
      "      Successfully uninstalled ipywidgets-7.6.5\n",
      "  Attempting uninstall: cvxpy\n",
      "    Found existing installation: cvxpy 1.2.1\n",
      "    Uninstalling cvxpy-1.2.1:\n",
      "      Successfully uninstalled cvxpy-1.2.1\n",
      "\u001b[31mERROR: pip's dependency resolver does not currently take into account all the packages that are installed. This behaviour is the source of the following dependency conflicts.\n",
      "daal4py 2021.5.0 requires daal==2021.4.0, which is not installed.\n",
      "numba 0.55.1 requires numpy<1.22,>=1.18, but you have numpy 1.22.3 which is incompatible.\u001b[0m\n",
      "Successfully installed PuLP-2.6.0 cvxpy-1.2.0 fix-yahoo-finance-0.1.30 ipywidgets-8.0.0rc0 jupyterlab-widgets-3.0.0rc0 matplotlib-3.5.2 matplotlib-inline-0.1.3 newsapi-python-0.2.6 numpy-1.22.3 pandas-datareader-0.10.0 pandas-ta-0.3.14b0 plotly-5.8.0 widgetsnbextension-4.0.0rc0\n"
     ]
    }
   ],
   "source": [
    "!pip install -r requirments.txt\n"
   ]
  },
  {
   "cell_type": "code",
   "execution_count": 7,
   "id": "bed09ec8",
   "metadata": {
    "extensions": {
     "jupyter_dashboards": {
      "version": 1,
      "views": {
       "grid_default": {},
       "report_default": {
        "hidden": true
       }
      }
     }
    },
    "scrolled": true
   },
   "outputs": [
    {
     "ename": "TypeError",
     "evalue": "'numpy._DTypeMeta' object is not subscriptable",
     "output_type": "error",
     "traceback": [
      "\u001b[0;31m---------------------------------------------------------------------------\u001b[0m",
      "\u001b[0;31mTypeError\u001b[0m                                 Traceback (most recent call last)",
      "Input \u001b[0;32mIn [7]\u001b[0m, in \u001b[0;36m<cell line: 10>\u001b[0;34m()\u001b[0m\n\u001b[1;32m      8\u001b[0m \u001b[38;5;28;01mimport\u001b[39;00m \u001b[38;5;21;01mnumpy\u001b[39;00m \u001b[38;5;28;01mas\u001b[39;00m \u001b[38;5;21;01mnp\u001b[39;00m \n\u001b[1;32m      9\u001b[0m \u001b[38;5;28;01mimport\u001b[39;00m \u001b[38;5;21;01mpandas\u001b[39;00m \u001b[38;5;28;01mas\u001b[39;00m \u001b[38;5;21;01mpd\u001b[39;00m \n\u001b[0;32m---> 10\u001b[0m \u001b[38;5;28;01mimport\u001b[39;00m \u001b[38;5;21;01mplotly\u001b[39;00m\u001b[38;5;21;01m.\u001b[39;00m\u001b[38;5;21;01mexpress\u001b[39;00m \u001b[38;5;28;01mas\u001b[39;00m \u001b[38;5;21;01mpx\u001b[39;00m\n\u001b[1;32m     11\u001b[0m \u001b[38;5;28;01mimport\u001b[39;00m \u001b[38;5;21;01mnltk\u001b[39;00m\n\u001b[1;32m     12\u001b[0m \u001b[38;5;66;03m### Uncomment it when the script runs for the first time \u001b[39;00m\n",
      "File \u001b[0;32m/Library/anaconda3/lib/python3.9/site-packages/plotly/express/__init__.py:15\u001b[0m, in \u001b[0;36m<module>\u001b[0;34m\u001b[0m\n\u001b[1;32m      9\u001b[0m \u001b[38;5;28;01mif\u001b[39;00m pd \u001b[38;5;129;01mis\u001b[39;00m \u001b[38;5;28;01mNone\u001b[39;00m:\n\u001b[1;32m     10\u001b[0m     \u001b[38;5;28;01mraise\u001b[39;00m \u001b[38;5;167;01mImportError\u001b[39;00m(\n\u001b[1;32m     11\u001b[0m         \u001b[38;5;124;03m\"\"\"\\\u001b[39;00m\n\u001b[1;32m     12\u001b[0m \u001b[38;5;124;03mPlotly express requires pandas to be installed.\"\"\"\u001b[39;00m\n\u001b[1;32m     13\u001b[0m     )\n\u001b[0;32m---> 15\u001b[0m \u001b[38;5;28;01mfrom\u001b[39;00m \u001b[38;5;21;01m.\u001b[39;00m\u001b[38;5;21;01m_imshow\u001b[39;00m \u001b[38;5;28;01mimport\u001b[39;00m imshow\n\u001b[1;32m     16\u001b[0m \u001b[38;5;28;01mfrom\u001b[39;00m \u001b[38;5;21;01m.\u001b[39;00m\u001b[38;5;21;01m_chart_types\u001b[39;00m \u001b[38;5;28;01mimport\u001b[39;00m (  \u001b[38;5;66;03m# noqa: F401\u001b[39;00m\n\u001b[1;32m     17\u001b[0m     scatter,\n\u001b[1;32m     18\u001b[0m     scatter_3d,\n\u001b[0;32m   (...)\u001b[0m\n\u001b[1;32m     51\u001b[0m     density_mapbox,\n\u001b[1;32m     52\u001b[0m )\n\u001b[1;32m     55\u001b[0m \u001b[38;5;28;01mfrom\u001b[39;00m \u001b[38;5;21;01m.\u001b[39;00m\u001b[38;5;21;01m_core\u001b[39;00m \u001b[38;5;28;01mimport\u001b[39;00m (  \u001b[38;5;66;03m# noqa: F401\u001b[39;00m\n\u001b[1;32m     56\u001b[0m     set_mapbox_access_token,\n\u001b[1;32m     57\u001b[0m     defaults,\n\u001b[1;32m     58\u001b[0m     get_trendline_results,\n\u001b[1;32m     59\u001b[0m     NO_COLOR,\n\u001b[1;32m     60\u001b[0m )\n",
      "File \u001b[0;32m/Library/anaconda3/lib/python3.9/site-packages/plotly/express/_imshow.py:11\u001b[0m, in \u001b[0;36m<module>\u001b[0;34m\u001b[0m\n\u001b[1;32m      8\u001b[0m \u001b[38;5;28;01mfrom\u001b[39;00m \u001b[38;5;21;01mplotly\u001b[39;00m\u001b[38;5;21;01m.\u001b[39;00m\u001b[38;5;21;01mutils\u001b[39;00m \u001b[38;5;28;01mimport\u001b[39;00m image_array_to_data_uri\n\u001b[1;32m     10\u001b[0m \u001b[38;5;28;01mtry\u001b[39;00m:\n\u001b[0;32m---> 11\u001b[0m     \u001b[38;5;28;01mimport\u001b[39;00m \u001b[38;5;21;01mxarray\u001b[39;00m\n\u001b[1;32m     13\u001b[0m     xarray_imported \u001b[38;5;241m=\u001b[39m \u001b[38;5;28;01mTrue\u001b[39;00m\n\u001b[1;32m     14\u001b[0m \u001b[38;5;28;01mexcept\u001b[39;00m \u001b[38;5;167;01mImportError\u001b[39;00m:\n",
      "File \u001b[0;32m/Library/anaconda3/lib/python3.9/site-packages/xarray/__init__.py:1\u001b[0m, in \u001b[0;36m<module>\u001b[0;34m\u001b[0m\n\u001b[0;32m----> 1\u001b[0m \u001b[38;5;28;01mfrom\u001b[39;00m \u001b[38;5;21;01m.\u001b[39;00m \u001b[38;5;28;01mimport\u001b[39;00m testing, tutorial, ufuncs\n\u001b[1;32m      2\u001b[0m \u001b[38;5;28;01mfrom\u001b[39;00m \u001b[38;5;21;01m.\u001b[39;00m\u001b[38;5;21;01mbackends\u001b[39;00m\u001b[38;5;21;01m.\u001b[39;00m\u001b[38;5;21;01mapi\u001b[39;00m \u001b[38;5;28;01mimport\u001b[39;00m (\n\u001b[1;32m      3\u001b[0m     load_dataarray,\n\u001b[1;32m      4\u001b[0m     load_dataset,\n\u001b[0;32m   (...)\u001b[0m\n\u001b[1;32m      8\u001b[0m     save_mfdataset,\n\u001b[1;32m      9\u001b[0m )\n\u001b[1;32m     10\u001b[0m \u001b[38;5;28;01mfrom\u001b[39;00m \u001b[38;5;21;01m.\u001b[39;00m\u001b[38;5;21;01mbackends\u001b[39;00m\u001b[38;5;21;01m.\u001b[39;00m\u001b[38;5;21;01mrasterio_\u001b[39;00m \u001b[38;5;28;01mimport\u001b[39;00m open_rasterio\n",
      "File \u001b[0;32m/Library/anaconda3/lib/python3.9/site-packages/xarray/testing.py:8\u001b[0m, in \u001b[0;36m<module>\u001b[0;34m\u001b[0m\n\u001b[1;32m      4\u001b[0m \u001b[38;5;28;01mfrom\u001b[39;00m \u001b[38;5;21;01mtyping\u001b[39;00m \u001b[38;5;28;01mimport\u001b[39;00m Hashable, Set, Union\n\u001b[1;32m      6\u001b[0m \u001b[38;5;28;01mimport\u001b[39;00m \u001b[38;5;21;01mnumpy\u001b[39;00m \u001b[38;5;28;01mas\u001b[39;00m \u001b[38;5;21;01mnp\u001b[39;00m\n\u001b[0;32m----> 8\u001b[0m \u001b[38;5;28;01mfrom\u001b[39;00m \u001b[38;5;21;01mxarray\u001b[39;00m\u001b[38;5;21;01m.\u001b[39;00m\u001b[38;5;21;01mcore\u001b[39;00m \u001b[38;5;28;01mimport\u001b[39;00m duck_array_ops, formatting, utils\n\u001b[1;32m      9\u001b[0m \u001b[38;5;28;01mfrom\u001b[39;00m \u001b[38;5;21;01mxarray\u001b[39;00m\u001b[38;5;21;01m.\u001b[39;00m\u001b[38;5;21;01mcore\u001b[39;00m\u001b[38;5;21;01m.\u001b[39;00m\u001b[38;5;21;01mdataarray\u001b[39;00m \u001b[38;5;28;01mimport\u001b[39;00m DataArray\n\u001b[1;32m     10\u001b[0m \u001b[38;5;28;01mfrom\u001b[39;00m \u001b[38;5;21;01mxarray\u001b[39;00m\u001b[38;5;21;01m.\u001b[39;00m\u001b[38;5;21;01mcore\u001b[39;00m\u001b[38;5;21;01m.\u001b[39;00m\u001b[38;5;21;01mdataset\u001b[39;00m \u001b[38;5;28;01mimport\u001b[39;00m Dataset\n",
      "File \u001b[0;32m/Library/anaconda3/lib/python3.9/site-packages/xarray/core/duck_array_ops.py:24\u001b[0m, in \u001b[0;36m<module>\u001b[0;34m\u001b[0m\n\u001b[1;32m     21\u001b[0m \u001b[38;5;28;01mfrom\u001b[39;00m \u001b[38;5;21;01mnumpy\u001b[39;00m \u001b[38;5;28;01mimport\u001b[39;00m take, tensordot, transpose, unravel_index  \u001b[38;5;66;03m# noqa\u001b[39;00m\n\u001b[1;32m     22\u001b[0m \u001b[38;5;28;01mfrom\u001b[39;00m \u001b[38;5;21;01mnumpy\u001b[39;00m \u001b[38;5;28;01mimport\u001b[39;00m where \u001b[38;5;28;01mas\u001b[39;00m _where\n\u001b[0;32m---> 24\u001b[0m \u001b[38;5;28;01mfrom\u001b[39;00m \u001b[38;5;21;01m.\u001b[39;00m \u001b[38;5;28;01mimport\u001b[39;00m dask_array_compat, dask_array_ops, dtypes, npcompat, nputils\n\u001b[1;32m     25\u001b[0m \u001b[38;5;28;01mfrom\u001b[39;00m \u001b[38;5;21;01m.\u001b[39;00m\u001b[38;5;21;01mnputils\u001b[39;00m \u001b[38;5;28;01mimport\u001b[39;00m nanfirst, nanlast\n\u001b[1;32m     26\u001b[0m \u001b[38;5;28;01mfrom\u001b[39;00m \u001b[38;5;21;01m.\u001b[39;00m\u001b[38;5;21;01mpycompat\u001b[39;00m \u001b[38;5;28;01mimport\u001b[39;00m (\n\u001b[1;32m     27\u001b[0m     cupy_array_type,\n\u001b[1;32m     28\u001b[0m     dask_array_type,\n\u001b[0;32m   (...)\u001b[0m\n\u001b[1;32m     31\u001b[0m     sparse_version,\n\u001b[1;32m     32\u001b[0m )\n",
      "File \u001b[0;32m/Library/anaconda3/lib/python3.9/site-packages/xarray/core/npcompat.py:39\u001b[0m, in \u001b[0;36m<module>\u001b[0;34m\u001b[0m\n\u001b[1;32m     37\u001b[0m \u001b[38;5;66;03m# Type annotations stubs\u001b[39;00m\n\u001b[1;32m     38\u001b[0m \u001b[38;5;28;01mtry\u001b[39;00m:\n\u001b[0;32m---> 39\u001b[0m     \u001b[38;5;28;01mfrom\u001b[39;00m \u001b[38;5;21;01mnumpy\u001b[39;00m\u001b[38;5;21;01m.\u001b[39;00m\u001b[38;5;21;01mtyping\u001b[39;00m \u001b[38;5;28;01mimport\u001b[39;00m ArrayLike, DTypeLike\n\u001b[1;32m     40\u001b[0m \u001b[38;5;28;01mexcept\u001b[39;00m \u001b[38;5;167;01mImportError\u001b[39;00m:\n\u001b[1;32m     41\u001b[0m     \u001b[38;5;66;03m# fall back for numpy < 1.20, ArrayLike adapted from numpy.typing._array_like\u001b[39;00m\n\u001b[1;32m     42\u001b[0m     \u001b[38;5;28;01mif\u001b[39;00m sys\u001b[38;5;241m.\u001b[39mversion_info \u001b[38;5;241m>\u001b[39m\u001b[38;5;241m=\u001b[39m (\u001b[38;5;241m3\u001b[39m, \u001b[38;5;241m8\u001b[39m):\n",
      "File \u001b[0;32m/Library/anaconda3/lib/python3.9/site-packages/numpy/typing/__init__.py:324\u001b[0m, in \u001b[0;36m<module>\u001b[0;34m\u001b[0m\n\u001b[1;32m    311\u001b[0m \u001b[38;5;28;01mfrom\u001b[39;00m \u001b[38;5;21;01m.\u001b[39;00m\u001b[38;5;21;01m_scalars\u001b[39;00m \u001b[38;5;28;01mimport\u001b[39;00m (\n\u001b[1;32m    312\u001b[0m     _CharLike_co,\n\u001b[1;32m    313\u001b[0m     _BoolLike_co,\n\u001b[0;32m   (...)\u001b[0m\n\u001b[1;32m    321\u001b[0m     _VoidLike_co,\n\u001b[1;32m    322\u001b[0m )\n\u001b[1;32m    323\u001b[0m \u001b[38;5;28;01mfrom\u001b[39;00m \u001b[38;5;21;01m.\u001b[39;00m\u001b[38;5;21;01m_shape\u001b[39;00m \u001b[38;5;28;01mimport\u001b[39;00m _Shape, _ShapeLike\n\u001b[0;32m--> 324\u001b[0m \u001b[38;5;28;01mfrom\u001b[39;00m \u001b[38;5;21;01m.\u001b[39;00m\u001b[38;5;21;01m_dtype_like\u001b[39;00m \u001b[38;5;28;01mimport\u001b[39;00m (\n\u001b[1;32m    325\u001b[0m     DTypeLike \u001b[38;5;28;01mas\u001b[39;00m DTypeLike,\n\u001b[1;32m    326\u001b[0m     _SupportsDType,\n\u001b[1;32m    327\u001b[0m     _VoidDTypeLike,\n\u001b[1;32m    328\u001b[0m     _DTypeLikeBool,\n\u001b[1;32m    329\u001b[0m     _DTypeLikeUInt,\n\u001b[1;32m    330\u001b[0m     _DTypeLikeInt,\n\u001b[1;32m    331\u001b[0m     _DTypeLikeFloat,\n\u001b[1;32m    332\u001b[0m     _DTypeLikeComplex,\n\u001b[1;32m    333\u001b[0m     _DTypeLikeTD64,\n\u001b[1;32m    334\u001b[0m     _DTypeLikeDT64,\n\u001b[1;32m    335\u001b[0m     _DTypeLikeObject,\n\u001b[1;32m    336\u001b[0m     _DTypeLikeVoid,\n\u001b[1;32m    337\u001b[0m     _DTypeLikeStr,\n\u001b[1;32m    338\u001b[0m     _DTypeLikeBytes,\n\u001b[1;32m    339\u001b[0m     _DTypeLikeComplex_co,\n\u001b[1;32m    340\u001b[0m )\n\u001b[1;32m    341\u001b[0m \u001b[38;5;28;01mfrom\u001b[39;00m \u001b[38;5;21;01m.\u001b[39;00m\u001b[38;5;21;01m_array_like\u001b[39;00m \u001b[38;5;28;01mimport\u001b[39;00m (\n\u001b[1;32m    342\u001b[0m     ArrayLike \u001b[38;5;28;01mas\u001b[39;00m ArrayLike,\n\u001b[1;32m    343\u001b[0m     _ArrayLike,\n\u001b[0;32m   (...)\u001b[0m\n\u001b[1;32m    358\u001b[0m     _ArrayLikeBytes_co,\n\u001b[1;32m    359\u001b[0m )\n\u001b[1;32m    360\u001b[0m \u001b[38;5;28;01mfrom\u001b[39;00m \u001b[38;5;21;01m.\u001b[39;00m\u001b[38;5;21;01m_generic_alias\u001b[39;00m \u001b[38;5;28;01mimport\u001b[39;00m (\n\u001b[1;32m    361\u001b[0m     NDArray \u001b[38;5;28;01mas\u001b[39;00m NDArray,\n\u001b[1;32m    362\u001b[0m     _DType,\n\u001b[1;32m    363\u001b[0m     _GenericAlias,\n\u001b[1;32m    364\u001b[0m )\n",
      "File \u001b[0;32m/Library/anaconda3/lib/python3.9/site-packages/numpy/typing/_dtype_like.py:16\u001b[0m, in \u001b[0;36m<module>\u001b[0;34m\u001b[0m\n\u001b[1;32m     13\u001b[0m \u001b[38;5;28;01mimport\u001b[39;00m \u001b[38;5;21;01mnumpy\u001b[39;00m \u001b[38;5;28;01mas\u001b[39;00m \u001b[38;5;21;01mnp\u001b[39;00m\n\u001b[1;32m     15\u001b[0m \u001b[38;5;28;01mfrom\u001b[39;00m \u001b[38;5;21;01m.\u001b[39;00m\u001b[38;5;21;01m_shape\u001b[39;00m \u001b[38;5;28;01mimport\u001b[39;00m _ShapeLike\n\u001b[0;32m---> 16\u001b[0m \u001b[38;5;28;01mfrom\u001b[39;00m \u001b[38;5;21;01m.\u001b[39;00m\u001b[38;5;21;01m_generic_alias\u001b[39;00m \u001b[38;5;28;01mimport\u001b[39;00m _DType \u001b[38;5;28;01mas\u001b[39;00m DType\n\u001b[1;32m     18\u001b[0m \u001b[38;5;28;01mfrom\u001b[39;00m \u001b[38;5;21;01m.\u001b[39;00m\u001b[38;5;21;01m_char_codes\u001b[39;00m \u001b[38;5;28;01mimport\u001b[39;00m (\n\u001b[1;32m     19\u001b[0m     _BoolCodes,\n\u001b[1;32m     20\u001b[0m     _UInt8Codes,\n\u001b[0;32m   (...)\u001b[0m\n\u001b[1;32m     57\u001b[0m     _ObjectCodes,\n\u001b[1;32m     58\u001b[0m )\n\u001b[1;32m     60\u001b[0m _DTypeLikeNested \u001b[38;5;241m=\u001b[39m Any  \u001b[38;5;66;03m# TODO: wait for support for recursive types\u001b[39;00m\n",
      "File \u001b[0;32m/Library/anaconda3/lib/python3.9/site-packages/numpy/typing/_generic_alias.py:211\u001b[0m, in \u001b[0;36m<module>\u001b[0;34m\u001b[0m\n\u001b[1;32m    208\u001b[0m ScalarType \u001b[38;5;241m=\u001b[39m TypeVar(\u001b[38;5;124m\"\u001b[39m\u001b[38;5;124mScalarType\u001b[39m\u001b[38;5;124m\"\u001b[39m, bound\u001b[38;5;241m=\u001b[39mnp\u001b[38;5;241m.\u001b[39mgeneric, covariant\u001b[38;5;241m=\u001b[39m\u001b[38;5;28;01mTrue\u001b[39;00m)\n\u001b[1;32m    210\u001b[0m \u001b[38;5;28;01mif\u001b[39;00m TYPE_CHECKING \u001b[38;5;129;01mor\u001b[39;00m sys\u001b[38;5;241m.\u001b[39mversion_info \u001b[38;5;241m>\u001b[39m\u001b[38;5;241m=\u001b[39m (\u001b[38;5;241m3\u001b[39m, \u001b[38;5;241m9\u001b[39m):\n\u001b[0;32m--> 211\u001b[0m     _DType \u001b[38;5;241m=\u001b[39m \u001b[43mnp\u001b[49m\u001b[38;5;241;43m.\u001b[39;49m\u001b[43mdtype\u001b[49m\u001b[43m[\u001b[49m\u001b[43mScalarType\u001b[49m\u001b[43m]\u001b[49m\n\u001b[1;32m    212\u001b[0m     NDArray \u001b[38;5;241m=\u001b[39m np\u001b[38;5;241m.\u001b[39mndarray[Any, np\u001b[38;5;241m.\u001b[39mdtype[ScalarType]]\n\u001b[1;32m    213\u001b[0m \u001b[38;5;28;01melse\u001b[39;00m:\n",
      "\u001b[0;31mTypeError\u001b[0m: 'numpy._DTypeMeta' object is not subscriptable"
     ]
    }
   ],
   "source": [
    "from __future__ import print_function\n",
    "from ipywidgets import interact, interactive, fixed, interact_manual\n",
    "import ipywidgets as widgets\n",
    "%matplotlib inline\n",
    "import seaborn as sns\n",
    "from ipywidgets import interact\n",
    "import pandas as pd\n",
    "import numpy as np \n",
    "import pandas as pd \n",
    "import plotly.express as px\n",
    "import nltk\n",
    "### Uncomment it when the script runs for the first time \n",
    "nltk.download('vader_lexicon')\n",
    "\n",
    "import matplotlib.pyplot as plt \n",
    "import numpy as np\n",
    "import pandas as pd\n",
    "from newsapi import NewsApiClient\n",
    "#from newsapi.newsapi_client import NewsApiClient\n",
    "from datetime import date, timedelta, datetime\n",
    "\n",
    "from nltk.sentiment.vader import SentimentIntensityAnalyzer\n",
    "sia = SentimentIntensityAnalyzer()\n",
    "pd.set_option('display.max_colwidth',1000)\n",
    "NEWS_API_KEY = '2adc9646b17746ffbd42e9526c1443e1'\n",
    "import numpy as np\n",
    "import pandas as pd\n",
    "import yfinance as yf\n",
    "import pandas_datareader.data as web\n",
    "import pandas_ta as ta\n",
    "import matplotlib.pyplot as plt\n",
    "from datetime import date\n",
    "plt.style.use('fivethirtyeight')\n",
    "yf.pdr_override()"
   ]
  },
  {
   "cell_type": "code",
   "execution_count": 2,
   "id": "f4598208",
   "metadata": {
    "extensions": {
     "jupyter_dashboards": {
      "version": 1,
      "views": {
       "grid_default": {},
       "report_default": {
        "hidden": true
       }
      }
     }
    }
   },
   "outputs": [],
   "source": [
    "df = pd.read_excel('CLOSE_PRICE.xlsx')\n",
    "CAPM = pd.read_excel('CAPM.xlsx')"
   ]
  },
  {
   "cell_type": "code",
   "execution_count": 3,
   "id": "b8b0643f",
   "metadata": {
    "extensions": {
     "jupyter_dashboards": {
      "version": 1,
      "views": {
       "grid_default": {},
       "report_default": {
        "hidden": true
       }
      }
     }
    }
   },
   "outputs": [],
   "source": [
    "Sector=['Date','NIFTY50','NIFTY_BANK','NIFTY_ENERGY','NIFTY_FINANCIAL_SERVICES','NIFTY_FMCG','NIFTY_IT','NIFTY_REALTY','NIFTY_MEDIA','NIFTY_METAL','NIFTY_PHARMA','NIFTY_PRIVATE_BANK','NIFTY_PSU','NIFTY_AUTO']\n",
    "sector={}\n",
    "c=0\n",
    "for i in Sector:\n",
    "    \n",
    "    sector[i] =list(df.iloc[:,c])\n",
    "  \n",
    "    c=c+1\n",
    "    "
   ]
  },
  {
   "cell_type": "code",
   "execution_count": 4,
   "id": "9ad125dd",
   "metadata": {
    "extensions": {
     "jupyter_dashboards": {
      "version": 1,
      "views": {
       "grid_default": {},
       "report_default": {
        "hidden": true
       }
      }
     }
    }
   },
   "outputs": [],
   "source": [
    "Data=pd.DataFrame(sector)"
   ]
  },
  {
   "cell_type": "code",
   "execution_count": 5,
   "id": "1c76ec7e",
   "metadata": {
    "extensions": {
     "jupyter_dashboards": {
      "version": 1,
      "views": {
       "grid_default": {},
       "report_default": {
        "hidden": true
       }
      }
     }
    }
   },
   "outputs": [],
   "source": [
    "# https://www.youtube.com/results?search_query=Cell+stacking+on+each+other+in+Jupyter+dashboard+view\n",
    "#     https://www.youtube.com/watch?v=URl3a-BcbIE\n",
    "#         https://www.youtube.com/watch?v=OJNxE1FjtXU\n",
    "#             https://plotly.com/python/figurewidget-app/\n",
    "#                 https://ipywidgets.readthedocs.io/en/stable/examples/Using%20Interact.html"
   ]
  },
  {
   "cell_type": "code",
   "execution_count": 8,
   "id": "e9cf547b",
   "metadata": {
    "extensions": {
     "jupyter_dashboards": {
      "version": 1,
      "views": {
       "grid_default": {},
       "report_default": {
        "hidden": true
       }
      }
     }
    }
   },
   "outputs": [
    {
     "ename": "TypeError",
     "evalue": "'numpy._DTypeMeta' object is not subscriptable",
     "output_type": "error",
     "traceback": [
      "\u001b[0;31m---------------------------------------------------------------------------\u001b[0m",
      "\u001b[0;31mTypeError\u001b[0m                                 Traceback (most recent call last)",
      "Input \u001b[0;32mIn [8]\u001b[0m, in \u001b[0;36m<cell line: 3>\u001b[0;34m()\u001b[0m\n\u001b[1;32m      1\u001b[0m \u001b[38;5;28;01mimport\u001b[39;00m \u001b[38;5;21;01mnumpy\u001b[39;00m \u001b[38;5;28;01mas\u001b[39;00m \u001b[38;5;21;01mnp\u001b[39;00m \n\u001b[1;32m      2\u001b[0m \u001b[38;5;28;01mimport\u001b[39;00m \u001b[38;5;21;01mpandas\u001b[39;00m \u001b[38;5;28;01mas\u001b[39;00m \u001b[38;5;21;01mpd\u001b[39;00m \n\u001b[0;32m----> 3\u001b[0m \u001b[38;5;28;01mimport\u001b[39;00m \u001b[38;5;21;01mplotly\u001b[39;00m\u001b[38;5;21;01m.\u001b[39;00m\u001b[38;5;21;01mexpress\u001b[39;00m \u001b[38;5;28;01mas\u001b[39;00m \u001b[38;5;21;01mpx\u001b[39;00m\n\u001b[1;32m      4\u001b[0m \u001b[38;5;28;01mimport\u001b[39;00m \u001b[38;5;21;01mplotly\u001b[39;00m\u001b[38;5;21;01m.\u001b[39;00m\u001b[38;5;21;01mgraph_objects\u001b[39;00m \u001b[38;5;28;01mas\u001b[39;00m \u001b[38;5;21;01mgo\u001b[39;00m\n",
      "File \u001b[0;32m/Library/anaconda3/lib/python3.9/site-packages/plotly/express/__init__.py:15\u001b[0m, in \u001b[0;36m<module>\u001b[0;34m\u001b[0m\n\u001b[1;32m      9\u001b[0m \u001b[38;5;28;01mif\u001b[39;00m pd \u001b[38;5;129;01mis\u001b[39;00m \u001b[38;5;28;01mNone\u001b[39;00m:\n\u001b[1;32m     10\u001b[0m     \u001b[38;5;28;01mraise\u001b[39;00m \u001b[38;5;167;01mImportError\u001b[39;00m(\n\u001b[1;32m     11\u001b[0m         \u001b[38;5;124;03m\"\"\"\\\u001b[39;00m\n\u001b[1;32m     12\u001b[0m \u001b[38;5;124;03mPlotly express requires pandas to be installed.\"\"\"\u001b[39;00m\n\u001b[1;32m     13\u001b[0m     )\n\u001b[0;32m---> 15\u001b[0m \u001b[38;5;28;01mfrom\u001b[39;00m \u001b[38;5;21;01m.\u001b[39;00m\u001b[38;5;21;01m_imshow\u001b[39;00m \u001b[38;5;28;01mimport\u001b[39;00m imshow\n\u001b[1;32m     16\u001b[0m \u001b[38;5;28;01mfrom\u001b[39;00m \u001b[38;5;21;01m.\u001b[39;00m\u001b[38;5;21;01m_chart_types\u001b[39;00m \u001b[38;5;28;01mimport\u001b[39;00m (  \u001b[38;5;66;03m# noqa: F401\u001b[39;00m\n\u001b[1;32m     17\u001b[0m     scatter,\n\u001b[1;32m     18\u001b[0m     scatter_3d,\n\u001b[0;32m   (...)\u001b[0m\n\u001b[1;32m     51\u001b[0m     density_mapbox,\n\u001b[1;32m     52\u001b[0m )\n\u001b[1;32m     55\u001b[0m \u001b[38;5;28;01mfrom\u001b[39;00m \u001b[38;5;21;01m.\u001b[39;00m\u001b[38;5;21;01m_core\u001b[39;00m \u001b[38;5;28;01mimport\u001b[39;00m (  \u001b[38;5;66;03m# noqa: F401\u001b[39;00m\n\u001b[1;32m     56\u001b[0m     set_mapbox_access_token,\n\u001b[1;32m     57\u001b[0m     defaults,\n\u001b[1;32m     58\u001b[0m     get_trendline_results,\n\u001b[1;32m     59\u001b[0m     NO_COLOR,\n\u001b[1;32m     60\u001b[0m )\n",
      "File \u001b[0;32m/Library/anaconda3/lib/python3.9/site-packages/plotly/express/_imshow.py:11\u001b[0m, in \u001b[0;36m<module>\u001b[0;34m\u001b[0m\n\u001b[1;32m      8\u001b[0m \u001b[38;5;28;01mfrom\u001b[39;00m \u001b[38;5;21;01mplotly\u001b[39;00m\u001b[38;5;21;01m.\u001b[39;00m\u001b[38;5;21;01mutils\u001b[39;00m \u001b[38;5;28;01mimport\u001b[39;00m image_array_to_data_uri\n\u001b[1;32m     10\u001b[0m \u001b[38;5;28;01mtry\u001b[39;00m:\n\u001b[0;32m---> 11\u001b[0m     \u001b[38;5;28;01mimport\u001b[39;00m \u001b[38;5;21;01mxarray\u001b[39;00m\n\u001b[1;32m     13\u001b[0m     xarray_imported \u001b[38;5;241m=\u001b[39m \u001b[38;5;28;01mTrue\u001b[39;00m\n\u001b[1;32m     14\u001b[0m \u001b[38;5;28;01mexcept\u001b[39;00m \u001b[38;5;167;01mImportError\u001b[39;00m:\n",
      "File \u001b[0;32m/Library/anaconda3/lib/python3.9/site-packages/xarray/__init__.py:1\u001b[0m, in \u001b[0;36m<module>\u001b[0;34m\u001b[0m\n\u001b[0;32m----> 1\u001b[0m \u001b[38;5;28;01mfrom\u001b[39;00m \u001b[38;5;21;01m.\u001b[39;00m \u001b[38;5;28;01mimport\u001b[39;00m testing, tutorial, ufuncs\n\u001b[1;32m      2\u001b[0m \u001b[38;5;28;01mfrom\u001b[39;00m \u001b[38;5;21;01m.\u001b[39;00m\u001b[38;5;21;01mbackends\u001b[39;00m\u001b[38;5;21;01m.\u001b[39;00m\u001b[38;5;21;01mapi\u001b[39;00m \u001b[38;5;28;01mimport\u001b[39;00m (\n\u001b[1;32m      3\u001b[0m     load_dataarray,\n\u001b[1;32m      4\u001b[0m     load_dataset,\n\u001b[0;32m   (...)\u001b[0m\n\u001b[1;32m      8\u001b[0m     save_mfdataset,\n\u001b[1;32m      9\u001b[0m )\n\u001b[1;32m     10\u001b[0m \u001b[38;5;28;01mfrom\u001b[39;00m \u001b[38;5;21;01m.\u001b[39;00m\u001b[38;5;21;01mbackends\u001b[39;00m\u001b[38;5;21;01m.\u001b[39;00m\u001b[38;5;21;01mrasterio_\u001b[39;00m \u001b[38;5;28;01mimport\u001b[39;00m open_rasterio\n",
      "File \u001b[0;32m/Library/anaconda3/lib/python3.9/site-packages/xarray/testing.py:8\u001b[0m, in \u001b[0;36m<module>\u001b[0;34m\u001b[0m\n\u001b[1;32m      4\u001b[0m \u001b[38;5;28;01mfrom\u001b[39;00m \u001b[38;5;21;01mtyping\u001b[39;00m \u001b[38;5;28;01mimport\u001b[39;00m Hashable, Set, Union\n\u001b[1;32m      6\u001b[0m \u001b[38;5;28;01mimport\u001b[39;00m \u001b[38;5;21;01mnumpy\u001b[39;00m \u001b[38;5;28;01mas\u001b[39;00m \u001b[38;5;21;01mnp\u001b[39;00m\n\u001b[0;32m----> 8\u001b[0m \u001b[38;5;28;01mfrom\u001b[39;00m \u001b[38;5;21;01mxarray\u001b[39;00m\u001b[38;5;21;01m.\u001b[39;00m\u001b[38;5;21;01mcore\u001b[39;00m \u001b[38;5;28;01mimport\u001b[39;00m duck_array_ops, formatting, utils\n\u001b[1;32m      9\u001b[0m \u001b[38;5;28;01mfrom\u001b[39;00m \u001b[38;5;21;01mxarray\u001b[39;00m\u001b[38;5;21;01m.\u001b[39;00m\u001b[38;5;21;01mcore\u001b[39;00m\u001b[38;5;21;01m.\u001b[39;00m\u001b[38;5;21;01mdataarray\u001b[39;00m \u001b[38;5;28;01mimport\u001b[39;00m DataArray\n\u001b[1;32m     10\u001b[0m \u001b[38;5;28;01mfrom\u001b[39;00m \u001b[38;5;21;01mxarray\u001b[39;00m\u001b[38;5;21;01m.\u001b[39;00m\u001b[38;5;21;01mcore\u001b[39;00m\u001b[38;5;21;01m.\u001b[39;00m\u001b[38;5;21;01mdataset\u001b[39;00m \u001b[38;5;28;01mimport\u001b[39;00m Dataset\n",
      "File \u001b[0;32m/Library/anaconda3/lib/python3.9/site-packages/xarray/core/duck_array_ops.py:24\u001b[0m, in \u001b[0;36m<module>\u001b[0;34m\u001b[0m\n\u001b[1;32m     21\u001b[0m \u001b[38;5;28;01mfrom\u001b[39;00m \u001b[38;5;21;01mnumpy\u001b[39;00m \u001b[38;5;28;01mimport\u001b[39;00m take, tensordot, transpose, unravel_index  \u001b[38;5;66;03m# noqa\u001b[39;00m\n\u001b[1;32m     22\u001b[0m \u001b[38;5;28;01mfrom\u001b[39;00m \u001b[38;5;21;01mnumpy\u001b[39;00m \u001b[38;5;28;01mimport\u001b[39;00m where \u001b[38;5;28;01mas\u001b[39;00m _where\n\u001b[0;32m---> 24\u001b[0m \u001b[38;5;28;01mfrom\u001b[39;00m \u001b[38;5;21;01m.\u001b[39;00m \u001b[38;5;28;01mimport\u001b[39;00m dask_array_compat, dask_array_ops, dtypes, npcompat, nputils\n\u001b[1;32m     25\u001b[0m \u001b[38;5;28;01mfrom\u001b[39;00m \u001b[38;5;21;01m.\u001b[39;00m\u001b[38;5;21;01mnputils\u001b[39;00m \u001b[38;5;28;01mimport\u001b[39;00m nanfirst, nanlast\n\u001b[1;32m     26\u001b[0m \u001b[38;5;28;01mfrom\u001b[39;00m \u001b[38;5;21;01m.\u001b[39;00m\u001b[38;5;21;01mpycompat\u001b[39;00m \u001b[38;5;28;01mimport\u001b[39;00m (\n\u001b[1;32m     27\u001b[0m     cupy_array_type,\n\u001b[1;32m     28\u001b[0m     dask_array_type,\n\u001b[0;32m   (...)\u001b[0m\n\u001b[1;32m     31\u001b[0m     sparse_version,\n\u001b[1;32m     32\u001b[0m )\n",
      "File \u001b[0;32m/Library/anaconda3/lib/python3.9/site-packages/xarray/core/npcompat.py:39\u001b[0m, in \u001b[0;36m<module>\u001b[0;34m\u001b[0m\n\u001b[1;32m     37\u001b[0m \u001b[38;5;66;03m# Type annotations stubs\u001b[39;00m\n\u001b[1;32m     38\u001b[0m \u001b[38;5;28;01mtry\u001b[39;00m:\n\u001b[0;32m---> 39\u001b[0m     \u001b[38;5;28;01mfrom\u001b[39;00m \u001b[38;5;21;01mnumpy\u001b[39;00m\u001b[38;5;21;01m.\u001b[39;00m\u001b[38;5;21;01mtyping\u001b[39;00m \u001b[38;5;28;01mimport\u001b[39;00m ArrayLike, DTypeLike\n\u001b[1;32m     40\u001b[0m \u001b[38;5;28;01mexcept\u001b[39;00m \u001b[38;5;167;01mImportError\u001b[39;00m:\n\u001b[1;32m     41\u001b[0m     \u001b[38;5;66;03m# fall back for numpy < 1.20, ArrayLike adapted from numpy.typing._array_like\u001b[39;00m\n\u001b[1;32m     42\u001b[0m     \u001b[38;5;28;01mif\u001b[39;00m sys\u001b[38;5;241m.\u001b[39mversion_info \u001b[38;5;241m>\u001b[39m\u001b[38;5;241m=\u001b[39m (\u001b[38;5;241m3\u001b[39m, \u001b[38;5;241m8\u001b[39m):\n",
      "File \u001b[0;32m/Library/anaconda3/lib/python3.9/site-packages/numpy/typing/__init__.py:324\u001b[0m, in \u001b[0;36m<module>\u001b[0;34m\u001b[0m\n\u001b[1;32m    311\u001b[0m \u001b[38;5;28;01mfrom\u001b[39;00m \u001b[38;5;21;01m.\u001b[39;00m\u001b[38;5;21;01m_scalars\u001b[39;00m \u001b[38;5;28;01mimport\u001b[39;00m (\n\u001b[1;32m    312\u001b[0m     _CharLike_co,\n\u001b[1;32m    313\u001b[0m     _BoolLike_co,\n\u001b[0;32m   (...)\u001b[0m\n\u001b[1;32m    321\u001b[0m     _VoidLike_co,\n\u001b[1;32m    322\u001b[0m )\n\u001b[1;32m    323\u001b[0m \u001b[38;5;28;01mfrom\u001b[39;00m \u001b[38;5;21;01m.\u001b[39;00m\u001b[38;5;21;01m_shape\u001b[39;00m \u001b[38;5;28;01mimport\u001b[39;00m _Shape, _ShapeLike\n\u001b[0;32m--> 324\u001b[0m \u001b[38;5;28;01mfrom\u001b[39;00m \u001b[38;5;21;01m.\u001b[39;00m\u001b[38;5;21;01m_dtype_like\u001b[39;00m \u001b[38;5;28;01mimport\u001b[39;00m (\n\u001b[1;32m    325\u001b[0m     DTypeLike \u001b[38;5;28;01mas\u001b[39;00m DTypeLike,\n\u001b[1;32m    326\u001b[0m     _SupportsDType,\n\u001b[1;32m    327\u001b[0m     _VoidDTypeLike,\n\u001b[1;32m    328\u001b[0m     _DTypeLikeBool,\n\u001b[1;32m    329\u001b[0m     _DTypeLikeUInt,\n\u001b[1;32m    330\u001b[0m     _DTypeLikeInt,\n\u001b[1;32m    331\u001b[0m     _DTypeLikeFloat,\n\u001b[1;32m    332\u001b[0m     _DTypeLikeComplex,\n\u001b[1;32m    333\u001b[0m     _DTypeLikeTD64,\n\u001b[1;32m    334\u001b[0m     _DTypeLikeDT64,\n\u001b[1;32m    335\u001b[0m     _DTypeLikeObject,\n\u001b[1;32m    336\u001b[0m     _DTypeLikeVoid,\n\u001b[1;32m    337\u001b[0m     _DTypeLikeStr,\n\u001b[1;32m    338\u001b[0m     _DTypeLikeBytes,\n\u001b[1;32m    339\u001b[0m     _DTypeLikeComplex_co,\n\u001b[1;32m    340\u001b[0m )\n\u001b[1;32m    341\u001b[0m \u001b[38;5;28;01mfrom\u001b[39;00m \u001b[38;5;21;01m.\u001b[39;00m\u001b[38;5;21;01m_array_like\u001b[39;00m \u001b[38;5;28;01mimport\u001b[39;00m (\n\u001b[1;32m    342\u001b[0m     ArrayLike \u001b[38;5;28;01mas\u001b[39;00m ArrayLike,\n\u001b[1;32m    343\u001b[0m     _ArrayLike,\n\u001b[0;32m   (...)\u001b[0m\n\u001b[1;32m    358\u001b[0m     _ArrayLikeBytes_co,\n\u001b[1;32m    359\u001b[0m )\n\u001b[1;32m    360\u001b[0m \u001b[38;5;28;01mfrom\u001b[39;00m \u001b[38;5;21;01m.\u001b[39;00m\u001b[38;5;21;01m_generic_alias\u001b[39;00m \u001b[38;5;28;01mimport\u001b[39;00m (\n\u001b[1;32m    361\u001b[0m     NDArray \u001b[38;5;28;01mas\u001b[39;00m NDArray,\n\u001b[1;32m    362\u001b[0m     _DType,\n\u001b[1;32m    363\u001b[0m     _GenericAlias,\n\u001b[1;32m    364\u001b[0m )\n",
      "File \u001b[0;32m/Library/anaconda3/lib/python3.9/site-packages/numpy/typing/_dtype_like.py:16\u001b[0m, in \u001b[0;36m<module>\u001b[0;34m\u001b[0m\n\u001b[1;32m     13\u001b[0m \u001b[38;5;28;01mimport\u001b[39;00m \u001b[38;5;21;01mnumpy\u001b[39;00m \u001b[38;5;28;01mas\u001b[39;00m \u001b[38;5;21;01mnp\u001b[39;00m\n\u001b[1;32m     15\u001b[0m \u001b[38;5;28;01mfrom\u001b[39;00m \u001b[38;5;21;01m.\u001b[39;00m\u001b[38;5;21;01m_shape\u001b[39;00m \u001b[38;5;28;01mimport\u001b[39;00m _ShapeLike\n\u001b[0;32m---> 16\u001b[0m \u001b[38;5;28;01mfrom\u001b[39;00m \u001b[38;5;21;01m.\u001b[39;00m\u001b[38;5;21;01m_generic_alias\u001b[39;00m \u001b[38;5;28;01mimport\u001b[39;00m _DType \u001b[38;5;28;01mas\u001b[39;00m DType\n\u001b[1;32m     18\u001b[0m \u001b[38;5;28;01mfrom\u001b[39;00m \u001b[38;5;21;01m.\u001b[39;00m\u001b[38;5;21;01m_char_codes\u001b[39;00m \u001b[38;5;28;01mimport\u001b[39;00m (\n\u001b[1;32m     19\u001b[0m     _BoolCodes,\n\u001b[1;32m     20\u001b[0m     _UInt8Codes,\n\u001b[0;32m   (...)\u001b[0m\n\u001b[1;32m     57\u001b[0m     _ObjectCodes,\n\u001b[1;32m     58\u001b[0m )\n\u001b[1;32m     60\u001b[0m _DTypeLikeNested \u001b[38;5;241m=\u001b[39m Any  \u001b[38;5;66;03m# TODO: wait for support for recursive types\u001b[39;00m\n",
      "File \u001b[0;32m/Library/anaconda3/lib/python3.9/site-packages/numpy/typing/_generic_alias.py:211\u001b[0m, in \u001b[0;36m<module>\u001b[0;34m\u001b[0m\n\u001b[1;32m    208\u001b[0m ScalarType \u001b[38;5;241m=\u001b[39m TypeVar(\u001b[38;5;124m\"\u001b[39m\u001b[38;5;124mScalarType\u001b[39m\u001b[38;5;124m\"\u001b[39m, bound\u001b[38;5;241m=\u001b[39mnp\u001b[38;5;241m.\u001b[39mgeneric, covariant\u001b[38;5;241m=\u001b[39m\u001b[38;5;28;01mTrue\u001b[39;00m)\n\u001b[1;32m    210\u001b[0m \u001b[38;5;28;01mif\u001b[39;00m TYPE_CHECKING \u001b[38;5;129;01mor\u001b[39;00m sys\u001b[38;5;241m.\u001b[39mversion_info \u001b[38;5;241m>\u001b[39m\u001b[38;5;241m=\u001b[39m (\u001b[38;5;241m3\u001b[39m, \u001b[38;5;241m9\u001b[39m):\n\u001b[0;32m--> 211\u001b[0m     _DType \u001b[38;5;241m=\u001b[39m \u001b[43mnp\u001b[49m\u001b[38;5;241;43m.\u001b[39;49m\u001b[43mdtype\u001b[49m\u001b[43m[\u001b[49m\u001b[43mScalarType\u001b[49m\u001b[43m]\u001b[49m\n\u001b[1;32m    212\u001b[0m     NDArray \u001b[38;5;241m=\u001b[39m np\u001b[38;5;241m.\u001b[39mndarray[Any, np\u001b[38;5;241m.\u001b[39mdtype[ScalarType]]\n\u001b[1;32m    213\u001b[0m \u001b[38;5;28;01melse\u001b[39;00m:\n",
      "\u001b[0;31mTypeError\u001b[0m: 'numpy._DTypeMeta' object is not subscriptable"
     ]
    }
   ],
   "source": [
    "import numpy as np \n",
    "import pandas as pd \n",
    "import plotly.express as px\n",
    "import plotly.graph_objects as go"
   ]
  },
  {
   "cell_type": "code",
   "execution_count": 8,
   "id": "bf647273",
   "metadata": {
    "extensions": {
     "jupyter_dashboards": {
      "version": 1,
      "views": {
       "grid_default": {},
       "report_default": {
        "hidden": false
       }
      }
     }
    }
   },
   "outputs": [
    {
     "data": {
      "application/vnd.jupyter.widget-view+json": {
       "model_id": "fcdff42c4c9f47afa184ba0d081acae5",
       "version_major": 2,
       "version_minor": 0
      },
      "text/plain": [
       "interactive(children=(Dropdown(description='Sector', options=('NIFTY50', 'NIFTY_BANK', 'NIFTY_ENERGY', 'NIFTY_…"
      ]
     },
     "metadata": {},
     "output_type": "display_data"
    }
   ],
   "source": [
    "@interact( Sector=['NIFTY50','NIFTY_BANK','NIFTY_ENERGY','NIFTY_FINANCIAL_SERVICES','NIFTY_IT','NIFTY_FMCG','NIFTY_REALTY','NIFTY_MEDIA','NIFTY_METAL','NIFTY_PHARMA','NIFTY_PRIVATE_BANK','NIFTY_PSU','NIFTY_AUTO'])\n",
    "def plot(Sector):\n",
    "    fig = px.line(Data, x='Date', y=Sector)\n",
    "    return(fig)\n",
    "    print(fig)\n",
    "    fig.show()\n",
    "  "
   ]
  },
  {
   "cell_type": "code",
   "execution_count": 9,
   "id": "26459d4c",
   "metadata": {
    "extensions": {
     "jupyter_dashboards": {
      "version": 1,
      "views": {
       "grid_default": {},
       "report_default": {
        "hidden": false
       }
      }
     }
    }
   },
   "outputs": [
    {
     "data": {
      "application/vnd.jupyter.widget-view+json": {
       "model_id": "a29b26b97f3d4578b497c5c25c875f88",
       "version_major": 2,
       "version_minor": 0
      },
      "text/plain": [
       "interactive(children=(Dropdown(description='Sec', options=('TATAMOTORS.NS', 'KOTAKBANK.NS'), value='TATAMOTORS…"
      ]
     },
     "metadata": {},
     "output_type": "display_data"
    }
   ],
   "source": [
    "@interact( Sec=['TATAMOTORS.NS','KOTAKBANK.NS'])\n",
    "def plot(Sec):\n",
    "    stocksymbols = Sec\n",
    "    startdate = date(2017,8,4)\n",
    "    end_date = date.today()\n",
    "    print(end_date)\n",
    "    def getMyPortfolio(stocks = stocksymbols ,start = startdate , end = end_date):\n",
    "        data = web.get_data_yahoo(stocks , data_source='yahoo' , start = start ,end= end )\n",
    "        return data\n",
    "    data = getMyPortfolio(stocksymbols)\n",
    "\n",
    "    macd = ta.macd(data['Close'])\n",
    "    data = pd.concat([data, macd], axis=1).reindex(data.index)\n",
    "    def MACD_Strategy(df, risk):\n",
    "        MACD_Buy=[]\n",
    "        MACD_Sell=[]\n",
    "        position=False\n",
    "\n",
    "        for i in range(0, len(df)):\n",
    "            if df['MACD_12_26_9'][i] > df['MACDs_12_26_9'][i] :\n",
    "                MACD_Sell.append(np.nan)\n",
    "                if position ==False:\n",
    "                    MACD_Buy.append(df['Adj Close'][i])\n",
    "                    position=True\n",
    "                else:\n",
    "                    MACD_Buy.append(np.nan)\n",
    "            elif df['MACD_12_26_9'][i] < df['MACDs_12_26_9'][i] :\n",
    "                MACD_Buy.append(np.nan)\n",
    "                if position == True:\n",
    "                    MACD_Sell.append(df['Adj Close'][i])\n",
    "                    position=False\n",
    "                else:\n",
    "                    MACD_Sell.append(np.nan)\n",
    "            elif position == True and df['Adj Close'][i] < MACD_Buy[-1] * (1 - risk):\n",
    "                MACD_Sell.append(df[\"Adj Close\"][i])\n",
    "                MACD_Buy.append(np.nan)\n",
    "                position = False\n",
    "            elif position == True and df['Adj Close'][i] < df['Adj Close'][i - 1] * (1 - risk):\n",
    "                MACD_Sell.append(df[\"Adj Close\"][i])\n",
    "                MACD_Buy.append(np.nan)\n",
    "                position = False\n",
    "            else:\n",
    "                MACD_Buy.append(np.nan)\n",
    "                MACD_Sell.append(np.nan)\n",
    "\n",
    "        data['MACD_Buy_Signal_price'] = MACD_Buy\n",
    "        data['MACD_Sell_Signal_price'] = MACD_Sell\n",
    "    MACD_strategy = MACD_Strategy(data, 0.025)\n",
    "    def MACD_color(data):\n",
    "        MACD_color = []\n",
    "        for i in range(0, len(data)):\n",
    "            if data['MACDh_12_26_9'][i] > data['MACDh_12_26_9'][i - 1]:\n",
    "                MACD_color.append(True)\n",
    "            else:\n",
    "                MACD_color.append(False)\n",
    "        return MACD_color\n",
    "\n",
    "    data['positive'] = MACD_color(data)\n",
    "\n",
    "    plt.rcParams.update({'font.size': 10})\n",
    "    fig, ax1 = plt.subplots(figsize=(14,8))\n",
    "    fig.suptitle(stocksymbols[0], fontsize=10, backgroundcolor='blue', color='white')\n",
    "    ax1 = plt.subplot2grid((14, 8), (0, 0), rowspan=8, colspan=14)\n",
    "    ax2 = plt.subplot2grid((14, 12), (10, 0), rowspan=6, colspan=14)\n",
    "    ax1.set_ylabel('Price in ₨')\n",
    "    ax1.plot('Adj Close',data=data, label='Close Price', linewidth=0.5, color='blue')\n",
    "    ax1.scatter(data.index, data['MACD_Buy_Signal_price'], color='green', marker='^', alpha=1)\n",
    "    ax1.scatter(data.index, data['MACD_Sell_Signal_price'], color='red', marker='v', alpha=1)\n",
    "    ax1.legend()\n",
    "    ax1.grid()\n",
    "    ax1.set_xlabel('Date', fontsize=8)\n",
    "\n",
    "    ax2.set_ylabel('MACD', fontsize=8)\n",
    "    ax2.plot('MACD_12_26_9', data=data, label='MACD', linewidth=0.5, color='blue')\n",
    "    ax2.plot('MACDs_12_26_9', data=data, label='signal', linewidth=0.5, color='red')\n",
    "    ax2.bar(data.index,'MACDh_12_26_9', data=data, label='Volume', color=data.positive.map({True: 'g', False: 'r'}),width=1,alpha=0.8)\n",
    "    ax2.axhline(0, color='black', linewidth=0.5, alpha=0.5)\n",
    "    ax2.grid()\n",
    "    plt.show()\n",
    "    "
   ]
  },
  {
   "cell_type": "code",
   "execution_count": 10,
   "id": "173ec9fd",
   "metadata": {
    "extensions": {
     "jupyter_dashboards": {
      "version": 1,
      "views": {
       "grid_default": {},
       "report_default": {
        "hidden": true
       }
      }
     }
    },
    "scrolled": true
   },
   "outputs": [],
   "source": [
    "#Return and risk"
   ]
  },
  {
   "cell_type": "code",
   "execution_count": 11,
   "id": "8dddf0bb",
   "metadata": {
    "extensions": {
     "jupyter_dashboards": {
      "version": 1,
      "views": {
       "grid_default": {},
       "report_default": {
        "hidden": false
       }
      }
     }
    }
   },
   "outputs": [
    {
     "data": {
      "application/vnd.jupyter.widget-view+json": {
       "model_id": "ca439fb0d5754b67be5c31095202f0fa",
       "version_major": 2,
       "version_minor": 0
      },
      "text/plain": [
       "interactive(children=(Dropdown(description='Sectors', options=('SBI', 'NIFTY BANK', 'NIFTY ENERGY', 'NIFTY FIN…"
      ]
     },
     "metadata": {},
     "output_type": "display_data"
    }
   ],
   "source": [
    "@interact( Sectors=['SBI','NIFTY BANK','NIFTY ENERGY','NIFTY FINANCIAL_SERVICES','NIFTY IT','NIFTY FMCG','NIFTY_REALTY','NIFTY_MEDIA','NIFTY_METAL','NIFTY_PHARMA','NIFTY_PRIVATE_BANK','NIFTY_PSU','NIFTY_AUTO'])\n",
    "def f(Sectors):\n",
    "    newsapi = NewsApiClient(api_key= NEWS_API_KEY)\n",
    "    keywrd = Sectors\n",
    "    my_date = date.today() - timedelta(days=1) \n",
    "# datetime.strptime('10-Apr-2021','%d-%b-%Y')\n",
    "\n",
    "    articles = newsapi.get_everything(q = keywrd,\n",
    "                                          from_param = my_date.isoformat(), \n",
    "                                          to = (my_date + timedelta(days = 1)).isoformat(),\n",
    "                                          language=\"en\",\n",
    "                                          #sources = \",\".join(sources_list),\n",
    "                                          sort_by=\"relevancy\",\n",
    "                                          page_size = 100)\n",
    "    article_content = ''\n",
    "\n",
    "    date_sentiments = {}\n",
    "    date_sentiments_list = []\n",
    "    seen = set()\n",
    "    for article in articles['articles']:\n",
    "        if str(article['title']) in seen:\n",
    "          continue\n",
    "        else:\n",
    "          seen.add(str(article['title']))\n",
    "          article_content = str(article['title']) + '. ' + str(article['description'])      \n",
    "          sentiment = sia.polarity_scores(article_content)['compound']\n",
    "\n",
    "          date_sentiments.setdefault(my_date, []).append(sentiment)\n",
    "          date_sentiments_list.append((sentiment, article['url'],article['title'],article['description']))\n",
    "\n",
    "    date_sentiments_l = sorted(date_sentiments_list, key=lambda tup: tup[0], reverse = True)   \n",
    "    sent_list = list(date_sentiments.values())[0]\n",
    "\n",
    "    table=pd.DataFrame(date_sentiments_list, columns=['Sentiment','URL','Title','Description'])\n",
    "\n",
    "    return(table)"
   ]
  },
  {
   "cell_type": "code",
   "execution_count": 12,
   "id": "6f314ea2",
   "metadata": {
    "extensions": {
     "jupyter_dashboards": {
      "version": 1,
      "views": {
       "grid_default": {},
       "report_default": {
        "hidden": true
       }
      }
     }
    }
   },
   "outputs": [],
   "source": [
    "import numpy as np"
   ]
  },
  {
   "cell_type": "code",
   "execution_count": 13,
   "id": "2d30d438",
   "metadata": {
    "extensions": {
     "jupyter_dashboards": {
      "version": 1,
      "views": {
       "grid_default": {},
       "report_default": {
        "hidden": true
       }
      }
     }
    }
   },
   "outputs": [],
   "source": [
    "COV=np.matrix([[1.26209813e-06, 1.56329823e-06, 1.16873438e-06, 1.52697258e-06,\n",
    "         8.57417481e-07, 8.93903559e-07, 1.44408851e-06, 1.16563520e-06,\n",
    "         1.48658962e-06, 7.89958752e-07, 1.58542863e-06, 1.54887900e-06,\n",
    "         1.36916150e-06],\n",
    "        [1.56329823e-06, 2.39574787e-06, 1.27146404e-06, 2.21388484e-06,\n",
    "         9.08365457e-07, 7.80981035e-07, 1.85362055e-06, 1.43950409e-06,\n",
    "         1.76846106e-06, 8.02813215e-07, 2.42159906e-06, 2.40013966e-06,\n",
    "         1.64528148e-06],\n",
    "        [1.16873438e-06, 1.27146404e-06, 1.78915877e-06, 1.22491596e-06,\n",
    "         7.53210696e-07, 6.96400949e-07, 1.40204005e-06, 1.18745698e-06,\n",
    "         1.57264128e-06, 8.15443211e-07, 1.27896162e-06, 1.56511440e-06,\n",
    "         1.28576242e-06],\n",
    "        [1.52697258e-06, 2.21388484e-06, 1.22491596e-06, 2.18088714e-06,\n",
    "         9.02065428e-07, 7.78794991e-07, 1.78854234e-06, 1.34739838e-06,\n",
    "         1.67211510e-06, 7.63163158e-07, 2.23559665e-06, 2.08838373e-06,\n",
    "         1.59325409e-06],\n",
    "        [8.57417481e-07, 9.08365457e-07, 7.53210696e-07, 9.02065428e-07,\n",
    "         1.19156835e-06, 5.83144890e-07, 9.69319706e-07, 7.79740305e-07,\n",
    "         9.35430520e-07, 6.46030286e-07, 9.27849191e-07, 9.15089058e-07,\n",
    "         9.12647571e-07],\n",
    "        [8.93903559e-07, 7.80981035e-07, 6.96400949e-07, 7.78794991e-07,\n",
    "         5.83144890e-07, 1.72906045e-06, 7.93624011e-07, 7.49398904e-07,\n",
    "         9.12950428e-07, 6.24098389e-07, 8.02223977e-07, 6.81886889e-07,\n",
    "         8.13008828e-07],\n",
    "        [1.44408851e-06, 1.85362055e-06, 1.40204005e-06, 1.78854234e-06,\n",
    "         9.69319706e-07, 7.93624011e-07, 3.75392566e-06, 1.89838610e-06,\n",
    "         2.13861082e-06, 1.10957518e-06, 1.88282084e-06, 2.27408464e-06,\n",
    "         1.86126599e-06],\n",
    "        [1.16563520e-06, 1.43950409e-06, 1.18745698e-06, 1.34739838e-06,\n",
    "         7.79740305e-07, 7.49398904e-07, 1.89838610e-06, 3.30302056e-06,\n",
    "         1.74227147e-06, 9.28044169e-07, 1.46576573e-06, 1.88657955e-06,\n",
    "         1.58756413e-06],\n",
    "        [1.48658962e-06, 1.76846106e-06, 1.57264128e-06, 1.67211510e-06,\n",
    "         9.35430520e-07, 9.12950428e-07, 2.13861082e-06, 1.74227147e-06,\n",
    "         3.41743799e-06, 1.18501007e-06, 1.76801598e-06, 2.30348949e-06,\n",
    "         1.86955785e-06],\n",
    "        [7.89958752e-07, 8.02813215e-07, 8.15443211e-07, 7.63163158e-07,\n",
    "         6.46030286e-07, 6.24098389e-07, 1.10957518e-06, 9.28044169e-07,\n",
    "         1.18501007e-06, 1.83166524e-06, 8.09502810e-07, 1.09950550e-06,\n",
    "         9.25038453e-07],\n",
    "        [1.58542863e-06, 2.42159906e-06, 1.27896162e-06, 2.23559665e-06,\n",
    "         9.27849191e-07, 8.02223977e-07, 1.88282084e-06, 1.46576573e-06,\n",
    "         1.76801598e-06, 8.09502810e-07, 2.50203251e-06, 2.20441847e-06,\n",
    "         1.68383643e-06],\n",
    "        [1.54887900e-06, 2.40013966e-06, 1.56511440e-06, 2.08838373e-06,\n",
    "         9.15089058e-07, 6.81886889e-07, 2.27408464e-06, 1.88657955e-06,\n",
    "         2.30348949e-06, 1.09950550e-06, 2.20441847e-06, 4.96109108e-06,\n",
    "         1.79096037e-06],\n",
    "        [1.36916150e-06, 1.64528148e-06, 1.28576242e-06, 1.59325409e-06,\n",
    "         9.12647571e-07, 8.13008828e-07, 1.86126599e-06, 1.58756413e-06,\n",
    "         1.86955785e-06, 9.25038453e-07, 1.68383643e-06, 1.79096037e-06,\n",
    "         2.25647109e-06]])"
   ]
  },
  {
   "cell_type": "code",
   "execution_count": 16,
   "id": "b34745d3",
   "metadata": {
    "extensions": {
     "jupyter_dashboards": {
      "version": 1,
      "views": {
       "grid_default": {},
       "report_default": {
        "hidden": true
       }
      }
     }
    }
   },
   "outputs": [],
   "source": [
    "CAPM_EXCESS_RETURN=np.matrix(CAPM['CAPM_EXCESS_RETURN'])"
   ]
  },
  {
   "cell_type": "code",
   "execution_count": 17,
   "id": "d5a35f06",
   "metadata": {
    "extensions": {
     "jupyter_dashboards": {
      "version": 1,
      "views": {
       "grid_default": {},
       "report_default": {
        "hidden": false
       }
      }
     }
    }
   },
   "outputs": [
    {
     "data": {
      "text/plain": [
       "matrix([[0.00039069, 0.00048393, 0.00036179, 0.00047269, 0.00026542,\n",
       "         0.00027672, 0.00044703, 0.00036083, 0.00046019, 0.00024454,\n",
       "         0.00049078, 0.00047947, 0.00042384]])"
      ]
     },
     "execution_count": 17,
     "metadata": {},
     "output_type": "execute_result"
    }
   ],
   "source": [
    "CAPM_EXCESS_RETURN"
   ]
  },
  {
   "cell_type": "code",
   "execution_count": 53,
   "id": "8abce8d5",
   "metadata": {
    "extensions": {
     "jupyter_dashboards": {
      "version": 1,
      "views": {
       "grid_default": {},
       "report_default": {
        "hidden": false
       }
      }
     }
    },
    "scrolled": true
   },
   "outputs": [
    {
     "data": {
      "application/vnd.jupyter.widget-view+json": {
       "model_id": "b072adb291324a3d85d3547dbd6f354e",
       "version_major": 2,
       "version_minor": 0
      },
      "text/plain": [
       "interactive(children=(IntSlider(value=0, description='Return'), IntText(value=0, description='Investment'), Dr…"
      ]
     },
     "metadata": {},
     "output_type": "display_data"
    }
   ],
   "source": [
    "@interact(Return=widgets.IntSlider(min=0, max=100, step=1),Investment = widgets.IntText(),Sectors=['All','NIFTY50','NIFTY_BANK','NIFTY_ENERGY','NIFTY_FINANCIAL_SERVICES','NIFTY_IT','NIFTY_FMCG','NIFTY_REALTY','NIFTY_MEDIA','NIFTY_METAL','NIFTY_PHARMA','NIFTY_PRIVATE_BANK','NIFTY_PSU','NIFTY_AUTO'])\n",
    "def g(Return,Investment,Sectors):\n",
    "    # Selected sectors becomes CAPM['Sectors']    \n",
    "    \n",
    "    n = len(CAPM['Sector'])\n",
    "\n",
    "    \n",
    "    x = Variable(n)\n",
    "\n",
    "    \n",
    "    req_return = Return/100\n",
    "\n",
    "    r=np.matrix([[0.14795492, 0.17145121, 0.14067171, 0.16861749, 0.11638622,\n",
    "         0.11923246, 0.16215179, 0.14042995, 0.16546726, 0.11112383,\n",
    "         0.17317758, 0.17032639, 0.15630682]])\n",
    "    C=COV\n",
    "    # The return\n",
    "    ret = x.T*r.T\n",
    "\n",
    "    # The risk in xT.Q.x format\n",
    "    risk = quad_form(x, C)\n",
    "\n",
    "    # The core problem definition with the Problem class from CVXPY\n",
    "    prob = Problem(Minimize(risk), [sum(x)==1, ret >= req_return, x >= 0])\n",
    "    Values=[]\n",
    "\n",
    "    try:\n",
    "        prob.solve()\n",
    "        print (\"Optimal portfolio\")\n",
    "        print (\"----------------------\")\n",
    "        for s in range(len(CAPM['Sector'])):\n",
    "           print (\" Investment in {} : {}% of the portfolio\".format(CAPM['Sector'][s],round(100*x.value[s],2)))\n",
    "           Values.append(round(100*x.value[s],2))\n",
    "        print (\"----------------------\")\n",
    "        print (\"Exp ret = {}%\".format(round(float(100*ret.value),2)))\n",
    "        print (\"Expected risk    = {}%\".format(round(100*risk.value**0.5,2)))\n",
    "    except:\n",
    "        print (\"Portfolio cant be managed for the selected Return%. Retry again \")\n",
    "    labels=list(CAPM['Sector'])\n",
    "\n",
    "\n",
    "    fig = go.Figure(data=[go.Pie(labels=labels, values=Values, hole=.5)])\n",
    "    fig.show()\n",
    "    \n",
    "    L=(Investment)*np.array(Values)\n",
    "    \n",
    "    Labels=list(CAPM['Sector'])\n",
    "    data = {'Sector':list(CAPM['Sector']),\n",
    "        'Allocation':list(L)}\n",
    "\n",
    "\n",
    "    df = pd.DataFrame(data)\n",
    "    \n",
    "    print(\"Your investment distribution is:\")  \n",
    "    print(df)\n",
    "    \n",
    "    return (Return,Investment,Sectors)"
   ]
  },
  {
   "cell_type": "code",
   "execution_count": null,
   "id": "3ac2b806",
   "metadata": {
    "extensions": {
     "jupyter_dashboards": {
      "version": 1,
      "views": {
       "grid_default": {},
       "report_default": {
        "hidden": true
       }
      }
     }
    }
   },
   "outputs": [],
   "source": []
  }
 ],
 "metadata": {
  "extensions": {
   "jupyter_dashboards": {
    "activeView": "report_default",
    "version": 1,
    "views": {
     "grid_default": {
      "cellMargin": 10,
      "defaultCellHeight": 20,
      "maxColumns": 12,
      "name": "grid",
      "type": "grid"
     },
     "report_default": {
      "name": "report",
      "type": "report"
     }
    }
   }
  },
  "kernelspec": {
   "display_name": "Python 3 (ipykernel)",
   "language": "python",
   "name": "python3"
  },
  "language_info": {
   "codemirror_mode": {
    "name": "ipython",
    "version": 3
   },
   "file_extension": ".py",
   "mimetype": "text/x-python",
   "name": "python",
   "nbconvert_exporter": "python",
   "pygments_lexer": "ipython3",
   "version": "3.8.13"
  }
 },
 "nbformat": 4,
 "nbformat_minor": 5
}
